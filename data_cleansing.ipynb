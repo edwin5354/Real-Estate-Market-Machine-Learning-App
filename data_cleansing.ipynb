{
 "cells": [
  {
   "cell_type": "markdown",
   "metadata": {},
   "source": [
    "Import relevant libraries"
   ]
  },
  {
   "cell_type": "code",
   "execution_count": 50,
   "metadata": {},
   "outputs": [],
   "source": [
    "import pandas as pd\n",
    "import re"
   ]
  },
  {
   "cell_type": "markdown",
   "metadata": {},
   "source": [
    "Open excel file"
   ]
  },
  {
   "cell_type": "code",
   "execution_count": 51,
   "metadata": {},
   "outputs": [
    {
     "data": {
      "text/html": [
       "<div>\n",
       "<style scoped>\n",
       "    .dataframe tbody tr th:only-of-type {\n",
       "        vertical-align: middle;\n",
       "    }\n",
       "\n",
       "    .dataframe tbody tr th {\n",
       "        vertical-align: top;\n",
       "    }\n",
       "\n",
       "    .dataframe thead th {\n",
       "        text-align: right;\n",
       "    }\n",
       "</style>\n",
       "<table border=\"1\" class=\"dataframe\">\n",
       "  <thead>\n",
       "    <tr style=\"text-align: right;\">\n",
       "      <th></th>\n",
       "      <th>property-text href</th>\n",
       "      <th>el-image__inner src</th>\n",
       "      <th>tag2</th>\n",
       "      <th>tag</th>\n",
       "      <th>title-lg</th>\n",
       "      <th>title-sm</th>\n",
       "      <th>adress</th>\n",
       "      <th>tag 2</th>\n",
       "      <th>box 2</th>\n",
       "      <th>hidden-xs-only 2</th>\n",
       "      <th>...</th>\n",
       "      <th>hidden-xs-only 6</th>\n",
       "      <th>facility-icon src</th>\n",
       "      <th>facility-tag</th>\n",
       "      <th>tag 3</th>\n",
       "      <th>tag1</th>\n",
       "      <th>img-loading</th>\n",
       "      <th>tag 4</th>\n",
       "      <th>prefix 3</th>\n",
       "      <th>facility-icon src 2</th>\n",
       "      <th>facility-tag 2</th>\n",
       "    </tr>\n",
       "  </thead>\n",
       "  <tbody>\n",
       "    <tr>\n",
       "      <th>0</th>\n",
       "      <td>https://hk.centanet.com/findproperty/en/detail...</td>\n",
       "      <td>https://hkvrdata.centanet.com/CNHK-27261_8147f...</td>\n",
       "      <td>Key</td>\n",
       "      <td>Pet friendly</td>\n",
       "      <td>MAYFAIR BY THE SEA</td>\n",
       "      <td>Low Floor・FLAT B・4 Rooms・(2 Suites)</td>\n",
       "      <td>Pak Shek Kok</td>\n",
       "      <td>Pet friendly</td>\n",
       "      <td>1,217 ft²</td>\n",
       "      <td>1,217ft²</td>\n",
       "      <td>...</td>\n",
       "      <td>NaN</td>\n",
       "      <td>NaN</td>\n",
       "      <td>NaN</td>\n",
       "      <td>NaN</td>\n",
       "      <td>NaN</td>\n",
       "      <td>NaN</td>\n",
       "      <td>NaN</td>\n",
       "      <td>NaN</td>\n",
       "      <td>NaN</td>\n",
       "      <td>NaN</td>\n",
       "    </tr>\n",
       "    <tr>\n",
       "      <th>1</th>\n",
       "      <td>https://hk.centanet.com/findproperty/en/detail...</td>\n",
       "      <td>https://hkvrdata.centanet.com/CNHK-41785_29fad...</td>\n",
       "      <td>Key</td>\n",
       "      <td>NaN</td>\n",
       "      <td>PARK ISLAND・PHASE 5 OCEANCREST・TOWER 29</td>\n",
       "      <td>4 Rooms・(3 Suites)</td>\n",
       "      <td>Ma Wan</td>\n",
       "      <td>NaN</td>\n",
       "      <td>1,464 ft²</td>\n",
       "      <td>1,464ft²</td>\n",
       "      <td>...</td>\n",
       "      <td>/ft²</td>\n",
       "      <td>NaN</td>\n",
       "      <td>NaN</td>\n",
       "      <td>NaN</td>\n",
       "      <td>NaN</td>\n",
       "      <td>NaN</td>\n",
       "      <td>NaN</td>\n",
       "      <td>NaN</td>\n",
       "      <td>NaN</td>\n",
       "      <td>NaN</td>\n",
       "    </tr>\n",
       "    <tr>\n",
       "      <th>2</th>\n",
       "      <td>https://hk.centanet.com/findproperty/en/detail...</td>\n",
       "      <td>https://hkvrdata.centanet.com/CNHK-45954_60cd1...</td>\n",
       "      <td>Key</td>\n",
       "      <td>NaN</td>\n",
       "      <td>Discovery Park・Phase 2・Block 8</td>\n",
       "      <td>Low Floor・FLAT A・3 Rooms・(1 Suite)</td>\n",
       "      <td>Discovery Park</td>\n",
       "      <td>NaN</td>\n",
       "      <td>659 ft²</td>\n",
       "      <td>659ft²</td>\n",
       "      <td>...</td>\n",
       "      <td>/ft²</td>\n",
       "      <td>https://hk.centanet.com/findproperty/_nuxt/82e...</td>\n",
       "      <td>9 mins</td>\n",
       "      <td>9 mins · DISCOVERY PARK SHOPPING CENTRE</td>\n",
       "      <td>NaN</td>\n",
       "      <td>NaN</td>\n",
       "      <td>NaN</td>\n",
       "      <td>NaN</td>\n",
       "      <td>NaN</td>\n",
       "      <td>NaN</td>\n",
       "    </tr>\n",
       "    <tr>\n",
       "      <th>3</th>\n",
       "      <td>https://hk.centanet.com/findproperty/en/detail...</td>\n",
       "      <td>https://hkvrdata.centanet.com/CNHK-28464_c8781...</td>\n",
       "      <td>Key</td>\n",
       "      <td>NaN</td>\n",
       "      <td>SERENO VERDE・Phase 4 La Pradera・TOWER 12</td>\n",
       "      <td>2 Rooms</td>\n",
       "      <td>Yuen Long Southeast</td>\n",
       "      <td>NaN</td>\n",
       "      <td>501 ft²</td>\n",
       "      <td>501ft²</td>\n",
       "      <td>...</td>\n",
       "      <td>/ft²</td>\n",
       "      <td>NaN</td>\n",
       "      <td>NaN</td>\n",
       "      <td>NaN</td>\n",
       "      <td>NaN</td>\n",
       "      <td>NaN</td>\n",
       "      <td>NaN</td>\n",
       "      <td>NaN</td>\n",
       "      <td>NaN</td>\n",
       "      <td>NaN</td>\n",
       "    </tr>\n",
       "    <tr>\n",
       "      <th>4</th>\n",
       "      <td>https://hk.centanet.com/findproperty/en/detail...</td>\n",
       "      <td>https://hkvrdata.centanet.com/CNHK-37859_2ea93...</td>\n",
       "      <td>Key</td>\n",
       "      <td>NaN</td>\n",
       "      <td>COASTAL SKYLINE・PHASE 1・BLOCK 1</td>\n",
       "      <td>Low Floor・2 Rooms</td>\n",
       "      <td>Tung Chung Town Centre</td>\n",
       "      <td>NaN</td>\n",
       "      <td>592 ft²</td>\n",
       "      <td>592ft²</td>\n",
       "      <td>...</td>\n",
       "      <td>/ft²</td>\n",
       "      <td>NaN</td>\n",
       "      <td>NaN</td>\n",
       "      <td>NaN</td>\n",
       "      <td>Exclusive</td>\n",
       "      <td>NaN</td>\n",
       "      <td>NaN</td>\n",
       "      <td>NaN</td>\n",
       "      <td>NaN</td>\n",
       "      <td>NaN</td>\n",
       "    </tr>\n",
       "  </tbody>\n",
       "</table>\n",
       "<p>5 rows × 38 columns</p>\n",
       "</div>"
      ],
      "text/plain": [
       "                                  property-text href  \\\n",
       "0  https://hk.centanet.com/findproperty/en/detail...   \n",
       "1  https://hk.centanet.com/findproperty/en/detail...   \n",
       "2  https://hk.centanet.com/findproperty/en/detail...   \n",
       "3  https://hk.centanet.com/findproperty/en/detail...   \n",
       "4  https://hk.centanet.com/findproperty/en/detail...   \n",
       "\n",
       "                                 el-image__inner src tag2           tag  \\\n",
       "0  https://hkvrdata.centanet.com/CNHK-27261_8147f...  Key  Pet friendly   \n",
       "1  https://hkvrdata.centanet.com/CNHK-41785_29fad...  Key           NaN   \n",
       "2  https://hkvrdata.centanet.com/CNHK-45954_60cd1...  Key           NaN   \n",
       "3  https://hkvrdata.centanet.com/CNHK-28464_c8781...  Key           NaN   \n",
       "4  https://hkvrdata.centanet.com/CNHK-37859_2ea93...  Key           NaN   \n",
       "\n",
       "                                   title-lg  \\\n",
       "0                        MAYFAIR BY THE SEA   \n",
       "1   PARK ISLAND・PHASE 5 OCEANCREST・TOWER 29   \n",
       "2            Discovery Park・Phase 2・Block 8   \n",
       "3  SERENO VERDE・Phase 4 La Pradera・TOWER 12   \n",
       "4           COASTAL SKYLINE・PHASE 1・BLOCK 1   \n",
       "\n",
       "                              title-sm                  adress         tag 2  \\\n",
       "0  Low Floor・FLAT B・4 Rooms・(2 Suites)            Pak Shek Kok  Pet friendly   \n",
       "1                   4 Rooms・(3 Suites)                  Ma Wan           NaN   \n",
       "2   Low Floor・FLAT A・3 Rooms・(1 Suite)          Discovery Park           NaN   \n",
       "3                              2 Rooms     Yuen Long Southeast           NaN   \n",
       "4                    Low Floor・2 Rooms  Tung Chung Town Centre           NaN   \n",
       "\n",
       "       box 2 hidden-xs-only 2  ... hidden-xs-only 6  \\\n",
       "0  1,217 ft²         1,217ft²  ...              NaN   \n",
       "1  1,464 ft²         1,464ft²  ...             /ft²   \n",
       "2    659 ft²           659ft²  ...             /ft²   \n",
       "3    501 ft²           501ft²  ...             /ft²   \n",
       "4    592 ft²           592ft²  ...             /ft²   \n",
       "\n",
       "                                   facility-icon src facility-tag  \\\n",
       "0                                                NaN          NaN   \n",
       "1                                                NaN          NaN   \n",
       "2  https://hk.centanet.com/findproperty/_nuxt/82e...       9 mins   \n",
       "3                                                NaN          NaN   \n",
       "4                                                NaN          NaN   \n",
       "\n",
       "                                     tag 3       tag1 img-loading tag 4  \\\n",
       "0                                      NaN        NaN         NaN   NaN   \n",
       "1                                      NaN        NaN         NaN   NaN   \n",
       "2  9 mins · DISCOVERY PARK SHOPPING CENTRE        NaN         NaN   NaN   \n",
       "3                                      NaN        NaN         NaN   NaN   \n",
       "4                                      NaN  Exclusive         NaN   NaN   \n",
       "\n",
       "  prefix 3 facility-icon src 2 facility-tag 2  \n",
       "0      NaN                 NaN            NaN  \n",
       "1      NaN                 NaN            NaN  \n",
       "2      NaN                 NaN            NaN  \n",
       "3      NaN                 NaN            NaN  \n",
       "4      NaN                 NaN            NaN  \n",
       "\n",
       "[5 rows x 38 columns]"
      ]
     },
     "execution_count": 51,
     "metadata": {},
     "output_type": "execute_result"
    }
   ],
   "source": [
    "df = pd.read_excel('./estate_new.xlsx')\n",
    "\n",
    "df.head()"
   ]
  },
  {
   "cell_type": "code",
   "execution_count": 52,
   "metadata": {},
   "outputs": [
    {
     "data": {
      "text/plain": [
       "1704"
      ]
     },
     "execution_count": 52,
     "metadata": {},
     "output_type": "execute_result"
    }
   ],
   "source": [
    "len(df)"
   ]
  },
  {
   "cell_type": "markdown",
   "metadata": {},
   "source": [
    "Extract columns from df; rename columns"
   ]
  },
  {
   "cell_type": "code",
   "execution_count": 53,
   "metadata": {},
   "outputs": [
    {
     "data": {
      "text/html": [
       "<div>\n",
       "<style scoped>\n",
       "    .dataframe tbody tr th:only-of-type {\n",
       "        vertical-align: middle;\n",
       "    }\n",
       "\n",
       "    .dataframe tbody tr th {\n",
       "        vertical-align: top;\n",
       "    }\n",
       "\n",
       "    .dataframe thead th {\n",
       "        text-align: right;\n",
       "    }\n",
       "</style>\n",
       "<table border=\"1\" class=\"dataframe\">\n",
       "  <thead>\n",
       "    <tr style=\"text-align: right;\">\n",
       "      <th></th>\n",
       "      <th>title-lg</th>\n",
       "      <th>title-sm</th>\n",
       "      <th>adress</th>\n",
       "      <th>adress 2</th>\n",
       "      <th>hidden-xs-only 2</th>\n",
       "      <th>area-price</th>\n",
       "      <th>box 4</th>\n",
       "      <th>area-price 2</th>\n",
       "      <th>price-info</th>\n",
       "      <th>installment</th>\n",
       "      <th>adress 6</th>\n",
       "      <th>facility-tag</th>\n",
       "    </tr>\n",
       "  </thead>\n",
       "  <tbody>\n",
       "    <tr>\n",
       "      <th>0</th>\n",
       "      <td>MAYFAIR BY THE SEA</td>\n",
       "      <td>Low Floor・FLAT B・4 Rooms・(2 Suites)</td>\n",
       "      <td>Pak Shek Kok</td>\n",
       "      <td>NaN</td>\n",
       "      <td>1,217ft²</td>\n",
       "      <td>@ $11,339</td>\n",
       "      <td>NaN</td>\n",
       "      <td>NaN</td>\n",
       "      <td>13.80</td>\n",
       "      <td>Monthly $46,817・</td>\n",
       "      <td>NaN</td>\n",
       "      <td>NaN</td>\n",
       "    </tr>\n",
       "    <tr>\n",
       "      <th>1</th>\n",
       "      <td>PARK ISLAND・PHASE 5 OCEANCREST・TOWER 29</td>\n",
       "      <td>4 Rooms・(3 Suites)</td>\n",
       "      <td>Ma Wan</td>\n",
       "      <td>18 years</td>\n",
       "      <td>1,464ft²</td>\n",
       "      <td>@ $19,125</td>\n",
       "      <td>1,825ft²</td>\n",
       "      <td>@ $15,342</td>\n",
       "      <td>28.00</td>\n",
       "      <td>Monthly $81,421・</td>\n",
       "      <td>80% Efficiency(%)</td>\n",
       "      <td>NaN</td>\n",
       "    </tr>\n",
       "    <tr>\n",
       "      <th>2</th>\n",
       "      <td>Discovery Park・Phase 2・Block 8</td>\n",
       "      <td>Low Floor・FLAT A・3 Rooms・(1 Suite)</td>\n",
       "      <td>Discovery Park</td>\n",
       "      <td>26 years</td>\n",
       "      <td>659ft²</td>\n",
       "      <td>@ $11,805</td>\n",
       "      <td>835ft²</td>\n",
       "      <td>@ $9,317</td>\n",
       "      <td>7.78</td>\n",
       "      <td>Monthly $26,394・</td>\n",
       "      <td>79% Efficiency(%)</td>\n",
       "      <td>9 mins</td>\n",
       "    </tr>\n",
       "    <tr>\n",
       "      <th>3</th>\n",
       "      <td>SERENO VERDE・Phase 4 La Pradera・TOWER 12</td>\n",
       "      <td>2 Rooms</td>\n",
       "      <td>Yuen Long Southeast</td>\n",
       "      <td>22 years</td>\n",
       "      <td>501ft²</td>\n",
       "      <td>@ $7,944</td>\n",
       "      <td>679ft²</td>\n",
       "      <td>@ $5,861</td>\n",
       "      <td>3.98</td>\n",
       "      <td>Monthly $13,502・</td>\n",
       "      <td>74% Efficiency(%)</td>\n",
       "      <td>NaN</td>\n",
       "    </tr>\n",
       "    <tr>\n",
       "      <th>4</th>\n",
       "      <td>COASTAL SKYLINE・PHASE 1・BLOCK 1</td>\n",
       "      <td>Low Floor・2 Rooms</td>\n",
       "      <td>Tung Chung Town Centre</td>\n",
       "      <td>21 years</td>\n",
       "      <td>592ft²</td>\n",
       "      <td>@ $10,979</td>\n",
       "      <td>775ft²</td>\n",
       "      <td>@ $8,387</td>\n",
       "      <td>6.50</td>\n",
       "      <td>Monthly $22,052・</td>\n",
       "      <td>NaN</td>\n",
       "      <td>NaN</td>\n",
       "    </tr>\n",
       "  </tbody>\n",
       "</table>\n",
       "</div>"
      ],
      "text/plain": [
       "                                   title-lg  \\\n",
       "0                        MAYFAIR BY THE SEA   \n",
       "1   PARK ISLAND・PHASE 5 OCEANCREST・TOWER 29   \n",
       "2            Discovery Park・Phase 2・Block 8   \n",
       "3  SERENO VERDE・Phase 4 La Pradera・TOWER 12   \n",
       "4           COASTAL SKYLINE・PHASE 1・BLOCK 1   \n",
       "\n",
       "                              title-sm                  adress  adress 2  \\\n",
       "0  Low Floor・FLAT B・4 Rooms・(2 Suites)            Pak Shek Kok       NaN   \n",
       "1                   4 Rooms・(3 Suites)                  Ma Wan  18 years   \n",
       "2   Low Floor・FLAT A・3 Rooms・(1 Suite)          Discovery Park  26 years   \n",
       "3                              2 Rooms     Yuen Long Southeast  22 years   \n",
       "4                    Low Floor・2 Rooms  Tung Chung Town Centre  21 years   \n",
       "\n",
       "  hidden-xs-only 2 area-price     box 4 area-price 2  price-info  \\\n",
       "0         1,217ft²  @ $11,339       NaN          NaN       13.80   \n",
       "1         1,464ft²  @ $19,125  1,825ft²    @ $15,342       28.00   \n",
       "2           659ft²  @ $11,805    835ft²     @ $9,317        7.78   \n",
       "3           501ft²   @ $7,944    679ft²     @ $5,861        3.98   \n",
       "4           592ft²  @ $10,979    775ft²     @ $8,387        6.50   \n",
       "\n",
       "        installment           adress 6 facility-tag  \n",
       "0  Monthly $46,817・                NaN          NaN  \n",
       "1  Monthly $81,421・  80% Efficiency(%)          NaN  \n",
       "2  Monthly $26,394・  79% Efficiency(%)       9 mins  \n",
       "3  Monthly $13,502・  74% Efficiency(%)          NaN  \n",
       "4  Monthly $22,052・                NaN          NaN  "
      ]
     },
     "execution_count": 53,
     "metadata": {},
     "output_type": "execute_result"
    }
   ],
   "source": [
    "extract_df = df[['title-lg',\t'title-sm',\t'adress',\t'adress 2',\n",
    "                'hidden-xs-only 2', 'area-price', 'box 4', 'area-price 2',\n",
    "                'price-info', 'installment', 'adress 6', 'facility-tag']]\n",
    "\n",
    "extract_df.head()"
   ]
  },
  {
   "cell_type": "code",
   "execution_count": 54,
   "metadata": {},
   "outputs": [
    {
     "data": {
      "text/html": [
       "<div>\n",
       "<style scoped>\n",
       "    .dataframe tbody tr th:only-of-type {\n",
       "        vertical-align: middle;\n",
       "    }\n",
       "\n",
       "    .dataframe tbody tr th {\n",
       "        vertical-align: top;\n",
       "    }\n",
       "\n",
       "    .dataframe thead th {\n",
       "        text-align: right;\n",
       "    }\n",
       "</style>\n",
       "<table border=\"1\" class=\"dataframe\">\n",
       "  <thead>\n",
       "    <tr style=\"text-align: right;\">\n",
       "      <th></th>\n",
       "      <th>address</th>\n",
       "      <th>num_room</th>\n",
       "      <th>district</th>\n",
       "      <th>age</th>\n",
       "      <th>sa</th>\n",
       "      <th>sap</th>\n",
       "      <th>gfa</th>\n",
       "      <th>gfap</th>\n",
       "      <th>price</th>\n",
       "      <th>monthly</th>\n",
       "      <th>efficiency</th>\n",
       "      <th>convenience</th>\n",
       "    </tr>\n",
       "  </thead>\n",
       "  <tbody>\n",
       "    <tr>\n",
       "      <th>0</th>\n",
       "      <td>MAYFAIR BY THE SEA</td>\n",
       "      <td>Low Floor・FLAT B・4 Rooms・(2 Suites)</td>\n",
       "      <td>Pak Shek Kok</td>\n",
       "      <td>NaN</td>\n",
       "      <td>1,217ft²</td>\n",
       "      <td>@ $11,339</td>\n",
       "      <td>NaN</td>\n",
       "      <td>NaN</td>\n",
       "      <td>13.80</td>\n",
       "      <td>Monthly $46,817・</td>\n",
       "      <td>NaN</td>\n",
       "      <td>NaN</td>\n",
       "    </tr>\n",
       "    <tr>\n",
       "      <th>1</th>\n",
       "      <td>PARK ISLAND・PHASE 5 OCEANCREST・TOWER 29</td>\n",
       "      <td>4 Rooms・(3 Suites)</td>\n",
       "      <td>Ma Wan</td>\n",
       "      <td>18 years</td>\n",
       "      <td>1,464ft²</td>\n",
       "      <td>@ $19,125</td>\n",
       "      <td>1,825ft²</td>\n",
       "      <td>@ $15,342</td>\n",
       "      <td>28.00</td>\n",
       "      <td>Monthly $81,421・</td>\n",
       "      <td>80% Efficiency(%)</td>\n",
       "      <td>NaN</td>\n",
       "    </tr>\n",
       "    <tr>\n",
       "      <th>2</th>\n",
       "      <td>Discovery Park・Phase 2・Block 8</td>\n",
       "      <td>Low Floor・FLAT A・3 Rooms・(1 Suite)</td>\n",
       "      <td>Discovery Park</td>\n",
       "      <td>26 years</td>\n",
       "      <td>659ft²</td>\n",
       "      <td>@ $11,805</td>\n",
       "      <td>835ft²</td>\n",
       "      <td>@ $9,317</td>\n",
       "      <td>7.78</td>\n",
       "      <td>Monthly $26,394・</td>\n",
       "      <td>79% Efficiency(%)</td>\n",
       "      <td>9 mins</td>\n",
       "    </tr>\n",
       "    <tr>\n",
       "      <th>3</th>\n",
       "      <td>SERENO VERDE・Phase 4 La Pradera・TOWER 12</td>\n",
       "      <td>2 Rooms</td>\n",
       "      <td>Yuen Long Southeast</td>\n",
       "      <td>22 years</td>\n",
       "      <td>501ft²</td>\n",
       "      <td>@ $7,944</td>\n",
       "      <td>679ft²</td>\n",
       "      <td>@ $5,861</td>\n",
       "      <td>3.98</td>\n",
       "      <td>Monthly $13,502・</td>\n",
       "      <td>74% Efficiency(%)</td>\n",
       "      <td>NaN</td>\n",
       "    </tr>\n",
       "    <tr>\n",
       "      <th>4</th>\n",
       "      <td>COASTAL SKYLINE・PHASE 1・BLOCK 1</td>\n",
       "      <td>Low Floor・2 Rooms</td>\n",
       "      <td>Tung Chung Town Centre</td>\n",
       "      <td>21 years</td>\n",
       "      <td>592ft²</td>\n",
       "      <td>@ $10,979</td>\n",
       "      <td>775ft²</td>\n",
       "      <td>@ $8,387</td>\n",
       "      <td>6.50</td>\n",
       "      <td>Monthly $22,052・</td>\n",
       "      <td>NaN</td>\n",
       "      <td>NaN</td>\n",
       "    </tr>\n",
       "  </tbody>\n",
       "</table>\n",
       "</div>"
      ],
      "text/plain": [
       "                                    address  \\\n",
       "0                        MAYFAIR BY THE SEA   \n",
       "1   PARK ISLAND・PHASE 5 OCEANCREST・TOWER 29   \n",
       "2            Discovery Park・Phase 2・Block 8   \n",
       "3  SERENO VERDE・Phase 4 La Pradera・TOWER 12   \n",
       "4           COASTAL SKYLINE・PHASE 1・BLOCK 1   \n",
       "\n",
       "                              num_room                district       age  \\\n",
       "0  Low Floor・FLAT B・4 Rooms・(2 Suites)            Pak Shek Kok       NaN   \n",
       "1                   4 Rooms・(3 Suites)                  Ma Wan  18 years   \n",
       "2   Low Floor・FLAT A・3 Rooms・(1 Suite)          Discovery Park  26 years   \n",
       "3                              2 Rooms     Yuen Long Southeast  22 years   \n",
       "4                    Low Floor・2 Rooms  Tung Chung Town Centre  21 years   \n",
       "\n",
       "         sa        sap       gfa       gfap  price           monthly  \\\n",
       "0  1,217ft²  @ $11,339       NaN        NaN  13.80  Monthly $46,817・   \n",
       "1  1,464ft²  @ $19,125  1,825ft²  @ $15,342  28.00  Monthly $81,421・   \n",
       "2    659ft²  @ $11,805    835ft²   @ $9,317   7.78  Monthly $26,394・   \n",
       "3    501ft²   @ $7,944    679ft²   @ $5,861   3.98  Monthly $13,502・   \n",
       "4    592ft²  @ $10,979    775ft²   @ $8,387   6.50  Monthly $22,052・   \n",
       "\n",
       "          efficiency convenience  \n",
       "0                NaN         NaN  \n",
       "1  80% Efficiency(%)         NaN  \n",
       "2  79% Efficiency(%)      9 mins  \n",
       "3  74% Efficiency(%)         NaN  \n",
       "4                NaN         NaN  "
      ]
     },
     "execution_count": 54,
     "metadata": {},
     "output_type": "execute_result"
    }
   ],
   "source": [
    "extract_df = extract_df.rename(columns={'title-lg': 'address', 'title-sm': 'num_room', 'adress': 'district',\n",
    "                            'adress 2': 'age', 'hidden-xs-only 2': 'sa',\n",
    "                            'area-price': 'sap', 'box 4': 'gfa', 'area-price 2': 'gfap',\n",
    "                            'price-info': 'price', 'installment': 'monthly',\n",
    "                            'adress 6': 'efficiency', 'facility-tag': 'convenience'\n",
    "                            })\n",
    "\n",
    "extract_df.head()"
   ]
  },
  {
   "cell_type": "markdown",
   "metadata": {},
   "source": [
    "Regular expressions"
   ]
  },
  {
   "cell_type": "code",
   "execution_count": 55,
   "metadata": {},
   "outputs": [
    {
     "data": {
      "text/plain": [
       "0    4\n",
       "1    4\n",
       "2    3\n",
       "3    2\n",
       "4    2\n",
       "Name: num_room, dtype: Int64"
      ]
     },
     "execution_count": 55,
     "metadata": {},
     "output_type": "execute_result"
    }
   ],
   "source": [
    "# 1. Number of rooms\n",
    "extract_df['num_room'] = extract_df['num_room'].str.extract(r\"(\\d+)\\s*Rooms?\")\n",
    "extract_df['num_room'] = extract_df['num_room'].astype('Int64') \n",
    "\n",
    "extract_df['num_room'][0:5]"
   ]
  },
  {
   "cell_type": "code",
   "execution_count": 56,
   "metadata": {},
   "outputs": [
    {
     "data": {
      "text/plain": [
       "0    <NA>\n",
       "1      18\n",
       "2      26\n",
       "3      22\n",
       "4      21\n",
       "Name: age, dtype: Int64"
      ]
     },
     "execution_count": 56,
     "metadata": {},
     "output_type": "execute_result"
    }
   ],
   "source": [
    "# 2. Building age\n",
    "extract_df['age'] = extract_df['age'].str.extract(r\"(\\d+)\\s*years?\")\n",
    "extract_df['age'] = extract_df['age'].astype('Int64') \n",
    "\n",
    "extract_df['age'][0:5]"
   ]
  },
  {
   "cell_type": "code",
   "execution_count": 57,
   "metadata": {},
   "outputs": [
    {
     "name": "stdout",
     "output_type": "stream",
     "text": [
      "Saleable Area:\n",
      " 0    1217\n",
      "1    1464\n",
      "2     659\n",
      "3     501\n",
      "4     592\n",
      "Name: sa, dtype: Int64\n",
      "Gross Area:\n",
      " 0    <NA>\n",
      "1    1825\n",
      "2     835\n",
      "3     679\n",
      "4     775\n",
      "Name: gfa, dtype: Int64\n"
     ]
    }
   ],
   "source": [
    "# 3. Saleable Area & Gross area\n",
    "\n",
    "extract_df['sa'] = extract_df['sa'].str.replace(\",\",\"\")\n",
    "extract_df['sa'] = extract_df['sa'].str.extract(r\"(\\d+)\")\n",
    "extract_df['sa'] = extract_df['sa'].astype('Int64')\n",
    "\n",
    "extract_df['gfa'] = extract_df['gfa'].str.replace(\",\",\"\")\n",
    "extract_df['gfa'] = extract_df['gfa'].str.extract(r\"(\\d+)\")\n",
    "extract_df['gfa'] = extract_df['gfa'].astype('Int64')\n",
    "\n",
    "print(f'Saleable Area:\\n {extract_df['sa'][0:5]}')\n",
    "print(f'Gross Area:\\n {extract_df['gfa'][0:5]}')"
   ]
  },
  {
   "cell_type": "code",
   "execution_count": 58,
   "metadata": {},
   "outputs": [
    {
     "name": "stdout",
     "output_type": "stream",
     "text": [
      "Saleable Area Price:\n",
      " 0    11339\n",
      "1    19125\n",
      "2    11805\n",
      "3     7944\n",
      "4    10979\n",
      "Name: sap, dtype: Int64\n",
      "Gross Area Price:\n",
      " 0     <NA>\n",
      "1    15342\n",
      "2     9317\n",
      "3     5861\n",
      "4     8387\n",
      "Name: gfap, dtype: Int64\n"
     ]
    }
   ],
   "source": [
    "# 4. Saleable Area Price & Gross area Price\n",
    "extract_df['sap'] = extract_df['sap'].str.replace(r\"[@$,]\", \"\", regex=True)\n",
    "extract_df['sap'] = extract_df['sap'].astype('Int64')\n",
    "\n",
    "extract_df['gfap'] = extract_df['gfap'].str.replace(r\"[@$,]\", \"\", regex=True)\n",
    "extract_df['gfap'] = extract_df['gfap'].astype('Int64')\n",
    "\n",
    "print(f'Saleable Area Price:\\n {extract_df['sap'][0:5]}')\n",
    "print(f'Gross Area Price:\\n {extract_df['gfap'][0:5]}')"
   ]
  },
  {
   "cell_type": "code",
   "execution_count": 59,
   "metadata": {},
   "outputs": [
    {
     "data": {
      "text/plain": [
       "0    46817\n",
       "1    81421\n",
       "2    26394\n",
       "3    13502\n",
       "4    22052\n",
       "Name: monthly, dtype: Int64"
      ]
     },
     "execution_count": 59,
     "metadata": {},
     "output_type": "execute_result"
    }
   ],
   "source": [
    "# 5. Monthly\n",
    "extract_df['monthly'] = extract_df['monthly'].str.replace(r\"[Monthly$,・]\", \"\", regex=True)\n",
    "extract_df['monthly'] = extract_df['monthly'].astype('Int64')\n",
    "extract_df['monthly'][0:5]"
   ]
  },
  {
   "cell_type": "code",
   "execution_count": 60,
   "metadata": {},
   "outputs": [
    {
     "data": {
      "text/plain": [
       "20    <NA>\n",
       "21    <NA>\n",
       "22      80\n",
       "23    <NA>\n",
       "24      86\n",
       "25    <NA>\n",
       "26    <NA>\n",
       "Name: efficiency, dtype: Int64"
      ]
     },
     "execution_count": 60,
     "metadata": {},
     "output_type": "execute_result"
    }
   ],
   "source": [
    "# 6. Efficiency\n",
    "extract_df['efficiency'] = extract_df['efficiency'].str.extract(r'(\\d+)')\n",
    "extract_df['efficiency'] = extract_df['efficiency'].astype('Int64')\n",
    "\n",
    "extract_df['efficiency'][20:27]"
   ]
  },
  {
   "cell_type": "code",
   "execution_count": 61,
   "metadata": {},
   "outputs": [
    {
     "data": {
      "text/plain": [
       "0    <NA>\n",
       "1    <NA>\n",
       "2       9\n",
       "3    <NA>\n",
       "4    <NA>\n",
       "Name: convenience, dtype: Int64"
      ]
     },
     "execution_count": 61,
     "metadata": {},
     "output_type": "execute_result"
    }
   ],
   "source": [
    "# 7. Convenience\n",
    "extract_df['convenience'] = extract_df['convenience'].str.extract(r'(\\d+)')\n",
    "extract_df['convenience'] = extract_df['convenience'].astype('Int64')\n",
    "\n",
    "extract_df['convenience'][0:5]"
   ]
  },
  {
   "cell_type": "code",
   "execution_count": 62,
   "metadata": {},
   "outputs": [
    {
     "data": {
      "text/html": [
       "<div>\n",
       "<style scoped>\n",
       "    .dataframe tbody tr th:only-of-type {\n",
       "        vertical-align: middle;\n",
       "    }\n",
       "\n",
       "    .dataframe tbody tr th {\n",
       "        vertical-align: top;\n",
       "    }\n",
       "\n",
       "    .dataframe thead th {\n",
       "        text-align: right;\n",
       "    }\n",
       "</style>\n",
       "<table border=\"1\" class=\"dataframe\">\n",
       "  <thead>\n",
       "    <tr style=\"text-align: right;\">\n",
       "      <th></th>\n",
       "      <th>address</th>\n",
       "      <th>num_room</th>\n",
       "      <th>district</th>\n",
       "      <th>age</th>\n",
       "      <th>sa</th>\n",
       "      <th>sap</th>\n",
       "      <th>gfa</th>\n",
       "      <th>gfap</th>\n",
       "      <th>price</th>\n",
       "      <th>monthly</th>\n",
       "      <th>efficiency</th>\n",
       "      <th>convenience</th>\n",
       "    </tr>\n",
       "  </thead>\n",
       "  <tbody>\n",
       "    <tr>\n",
       "      <th>0</th>\n",
       "      <td>MAYFAIR BY THE SEA</td>\n",
       "      <td>4</td>\n",
       "      <td>Pak Shek Kok</td>\n",
       "      <td>&lt;NA&gt;</td>\n",
       "      <td>1217</td>\n",
       "      <td>11339</td>\n",
       "      <td>&lt;NA&gt;</td>\n",
       "      <td>&lt;NA&gt;</td>\n",
       "      <td>13.80</td>\n",
       "      <td>46817</td>\n",
       "      <td>&lt;NA&gt;</td>\n",
       "      <td>&lt;NA&gt;</td>\n",
       "    </tr>\n",
       "    <tr>\n",
       "      <th>1</th>\n",
       "      <td>PARK ISLAND・PHASE 5 OCEANCREST・TOWER 29</td>\n",
       "      <td>4</td>\n",
       "      <td>Ma Wan</td>\n",
       "      <td>18</td>\n",
       "      <td>1464</td>\n",
       "      <td>19125</td>\n",
       "      <td>1825</td>\n",
       "      <td>15342</td>\n",
       "      <td>28.00</td>\n",
       "      <td>81421</td>\n",
       "      <td>80</td>\n",
       "      <td>&lt;NA&gt;</td>\n",
       "    </tr>\n",
       "    <tr>\n",
       "      <th>2</th>\n",
       "      <td>Discovery Park・Phase 2・Block 8</td>\n",
       "      <td>3</td>\n",
       "      <td>Discovery Park</td>\n",
       "      <td>26</td>\n",
       "      <td>659</td>\n",
       "      <td>11805</td>\n",
       "      <td>835</td>\n",
       "      <td>9317</td>\n",
       "      <td>7.78</td>\n",
       "      <td>26394</td>\n",
       "      <td>79</td>\n",
       "      <td>9</td>\n",
       "    </tr>\n",
       "    <tr>\n",
       "      <th>3</th>\n",
       "      <td>SERENO VERDE・Phase 4 La Pradera・TOWER 12</td>\n",
       "      <td>2</td>\n",
       "      <td>Yuen Long Southeast</td>\n",
       "      <td>22</td>\n",
       "      <td>501</td>\n",
       "      <td>7944</td>\n",
       "      <td>679</td>\n",
       "      <td>5861</td>\n",
       "      <td>3.98</td>\n",
       "      <td>13502</td>\n",
       "      <td>74</td>\n",
       "      <td>&lt;NA&gt;</td>\n",
       "    </tr>\n",
       "    <tr>\n",
       "      <th>4</th>\n",
       "      <td>COASTAL SKYLINE・PHASE 1・BLOCK 1</td>\n",
       "      <td>2</td>\n",
       "      <td>Tung Chung Town Centre</td>\n",
       "      <td>21</td>\n",
       "      <td>592</td>\n",
       "      <td>10979</td>\n",
       "      <td>775</td>\n",
       "      <td>8387</td>\n",
       "      <td>6.50</td>\n",
       "      <td>22052</td>\n",
       "      <td>&lt;NA&gt;</td>\n",
       "      <td>&lt;NA&gt;</td>\n",
       "    </tr>\n",
       "  </tbody>\n",
       "</table>\n",
       "</div>"
      ],
      "text/plain": [
       "                                    address  num_room                district  \\\n",
       "0                        MAYFAIR BY THE SEA         4            Pak Shek Kok   \n",
       "1   PARK ISLAND・PHASE 5 OCEANCREST・TOWER 29         4                  Ma Wan   \n",
       "2            Discovery Park・Phase 2・Block 8         3          Discovery Park   \n",
       "3  SERENO VERDE・Phase 4 La Pradera・TOWER 12         2     Yuen Long Southeast   \n",
       "4           COASTAL SKYLINE・PHASE 1・BLOCK 1         2  Tung Chung Town Centre   \n",
       "\n",
       "    age    sa    sap   gfa   gfap  price  monthly  efficiency  convenience  \n",
       "0  <NA>  1217  11339  <NA>   <NA>  13.80    46817        <NA>         <NA>  \n",
       "1    18  1464  19125  1825  15342  28.00    81421          80         <NA>  \n",
       "2    26   659  11805   835   9317   7.78    26394          79            9  \n",
       "3    22   501   7944   679   5861   3.98    13502          74         <NA>  \n",
       "4    21   592  10979   775   8387   6.50    22052        <NA>         <NA>  "
      ]
     },
     "execution_count": 62,
     "metadata": {},
     "output_type": "execute_result"
    }
   ],
   "source": [
    "extract_df.head()"
   ]
  },
  {
   "cell_type": "markdown",
   "metadata": {},
   "source": [
    "Further cleansing"
   ]
  },
  {
   "cell_type": "code",
   "execution_count": 63,
   "metadata": {},
   "outputs": [],
   "source": [
    "extract_df = extract_df.drop(['efficiency'], axis=1)"
   ]
  },
  {
   "cell_type": "code",
   "execution_count": 64,
   "metadata": {},
   "outputs": [
    {
     "data": {
      "text/plain": [
       "721"
      ]
     },
     "execution_count": 64,
     "metadata": {},
     "output_type": "execute_result"
    }
   ],
   "source": [
    "extract_df = extract_df.dropna()\n",
    "len(extract_df)"
   ]
  },
  {
   "cell_type": "markdown",
   "metadata": {},
   "source": [
    "Create a new column efficiency after dropping null values"
   ]
  },
  {
   "cell_type": "code",
   "execution_count": 65,
   "metadata": {},
   "outputs": [
    {
     "data": {
      "text/plain": [
       "2     78\n",
       "10    73\n",
       "12    76\n",
       "13    78\n",
       "16    74\n",
       "Name: efficiency, dtype: Int64"
      ]
     },
     "execution_count": 65,
     "metadata": {},
     "output_type": "execute_result"
    }
   ],
   "source": [
    "extract_df['efficiency'] = (extract_df['sa'] / extract_df['gfa']) * 100\n",
    "extract_df['efficiency'] = extract_df['efficiency'].astype('Int64')\n",
    "extract_df['efficiency'][0:5]"
   ]
  },
  {
   "cell_type": "markdown",
   "metadata": {},
   "source": [
    "Group the districts into regions; create a new column as region"
   ]
  },
  {
   "cell_type": "code",
   "execution_count": 66,
   "metadata": {},
   "outputs": [],
   "source": [
    "region_dict = {\n",
    "    'NT East': [\n",
    "        'City One Shatin', 'Deep Bay', 'Fanling', 'Fo Tan', \n",
    "        'Ha Kwai Chung', 'Heng On', 'Ma On Shan', 'Ma Tau Wai', \n",
    "        'Po Lam', 'Sai Ying Pun', 'Sha Tin', 'Sheung Shui', \n",
    "        'Tiu Keng Leng', 'Tseung Kwan O', 'Yuen Long Station', \n",
    "        'Yuen Long Town Centre'\n",
    "    ],\n",
    "    'NT West': [\n",
    "        'Discovery Park', 'Four Little Dragons', 'Laguna', \n",
    "        'Lai King', 'Lai Wan', 'Lam Tin', 'Lohas Park', \n",
    "        'Luk Yeung', 'Tai Hang', 'Tai Kok Tsui', \n",
    "        'Tai Po Town Centre', 'Tai Wai', 'Tai Wo Hau', \n",
    "        'Taikoo Shing', 'Tin Shui Wai', 'Tsuen King Circuit', \n",
    "        'Tsuen Wan Hoi Bun', 'Tsuen Wan Town Centre', \n",
    "        'Tsuen Wan West', 'Tuen Mun North', 'Tuen Mun Town Centre', \n",
    "        'Tung Chung Town Centre'\n",
    "    ],\n",
    "    'Kowloon': [\n",
    "        'Cheung Sha Wan', 'Diamond Hill', 'Hung Hom', \n",
    "        'Jordan', 'Kowloon Bay', 'Kowloon City', 'Kowloon Station', \n",
    "        'Ngau Chi Wan', 'Prince Edward', 'Wong Tai Sin', \n",
    "        'Whampoa', 'San Po Kong', 'Yau Ma Tei'\n",
    "    ],\n",
    "    'HK Island': [\n",
    "        'Causeway Bay', 'Chai Wan', 'Kennedy Town', 'North Point', \n",
    "        'Sai Wan Ho', 'Sheung Wan', 'Mid-Levels Central', \n",
    "        'Mid-Levels West', 'Tin Hau', 'Tsim Sha Tsui', \n",
    "        'Wan Chai', 'Quarry Bay', 'Residence Bel-air', \n",
    "        'Olympic Station', 'Kornhill', 'Siu Hong', \n",
    "        'Siu Lek Yuen', 'Siu Sai Wan', 'South Horizons', \n",
    "        'North Point Mid-Levels'\n",
    "    ]\n",
    "}\n",
    "\n",
    "def get_region(district):\n",
    "    for region, districts in region_dict.items():\n",
    "        if district in districts:\n",
    "            return region\n",
    "\n",
    "extract_df['region'] = extract_df['district'].apply(get_region)"
   ]
  },
  {
   "cell_type": "markdown",
   "metadata": {},
   "source": [
    "Save the file into a csv format for further analysis"
   ]
  },
  {
   "cell_type": "code",
   "execution_count": 67,
   "metadata": {},
   "outputs": [],
   "source": [
    "extract_df = extract_df.dropna()\n",
    "extract_df.to_csv(\"./cleaned.csv\", index=False)"
   ]
  },
  {
   "cell_type": "code",
   "execution_count": 68,
   "metadata": {},
   "outputs": [
    {
     "name": "stdout",
     "output_type": "stream",
     "text": [
      "<class 'pandas.core.frame.DataFrame'>\n",
      "Index: 667 entries, 2 to 1703\n",
      "Data columns (total 13 columns):\n",
      " #   Column       Non-Null Count  Dtype  \n",
      "---  ------       --------------  -----  \n",
      " 0   address      667 non-null    object \n",
      " 1   num_room     667 non-null    Int64  \n",
      " 2   district     667 non-null    object \n",
      " 3   age          667 non-null    Int64  \n",
      " 4   sa           667 non-null    Int64  \n",
      " 5   sap          667 non-null    Int64  \n",
      " 6   gfa          667 non-null    Int64  \n",
      " 7   gfap         667 non-null    Int64  \n",
      " 8   price        667 non-null    float64\n",
      " 9   monthly      667 non-null    Int64  \n",
      " 10  convenience  667 non-null    Int64  \n",
      " 11  efficiency   667 non-null    Int64  \n",
      " 12  region       667 non-null    object \n",
      "dtypes: Int64(9), float64(1), object(3)\n",
      "memory usage: 78.8+ KB\n"
     ]
    }
   ],
   "source": [
    "extract_df.info()"
   ]
  }
 ],
 "metadata": {
  "kernelspec": {
   "display_name": "Python 3",
   "language": "python",
   "name": "python3"
  },
  "language_info": {
   "codemirror_mode": {
    "name": "ipython",
    "version": 3
   },
   "file_extension": ".py",
   "mimetype": "text/x-python",
   "name": "python",
   "nbconvert_exporter": "python",
   "pygments_lexer": "ipython3",
   "version": "3.12.5"
  }
 },
 "nbformat": 4,
 "nbformat_minor": 2
}
